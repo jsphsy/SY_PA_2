{
 "cells": [
  {
   "cell_type": "code",
   "execution_count": 2,
   "id": "dd2af827-1352-4ce3-8ea2-4fa61d0ac695",
   "metadata": {},
   "outputs": [],
   "source": [
    "#NORMALIZATION PROBLEM\n",
    "import numpy as np\n",
    "\n",
    "#Create a random 5x5 ndarray\n",
    "X = np.random.rand(5,5) #Creates a 5x5 array with random values between 0 and 1\n",
    "\n",
    "#Normalize X using the formula Z = (X - mean)/std\n",
    "#Calculate element-wise mean and standard deviation\n",
    "mean = X.mean() #Mean of each column\n",
    "std = X.std() #Standard Deviation of each column\n",
    "\n",
    "#Apply the normalization formula\n",
    "X_normalized = (X - mean) / std\n",
    "\n",
    "#Save the normalized array as X_normalized.npy\n",
    "np.save(\"X_normalized.npy\", X_normalized)"
   ]
  },
  {
   "cell_type": "code",
   "execution_count": 3,
   "id": "6e69855c-aca7-4a5a-a611-90be19729ef4",
   "metadata": {
    "scrolled": true
   },
   "outputs": [
    {
     "name": "stdout",
     "output_type": "stream",
     "text": [
      "Original Array (X):\n",
      " [[0.98946835 0.04223551 0.09527599 0.44676407 0.46354061]\n",
      " [0.28120754 0.14190067 0.82007301 0.66785664 0.44408923]\n",
      " [0.40461943 0.78314857 0.75273697 0.39933413 0.65330528]\n",
      " [0.45616813 0.49663693 0.82064797 0.70536536 0.91419355]\n",
      " [0.65547018 0.23113441 0.78964975 0.58734979 0.59638736]]\n"
     ]
    }
   ],
   "source": [
    "print(\"Original Array (X):\\n\", X)"
   ]
  },
  {
   "cell_type": "code",
   "execution_count": 6,
   "id": "92d47415-7950-4eaa-b6a2-4897e3b5b102",
   "metadata": {},
   "outputs": [
    {
     "name": "stdout",
     "output_type": "stream",
     "text": [
      "\n",
      "Mean: 0.5455423772370197\n"
     ]
    }
   ],
   "source": [
    "print(\"\\nMean:\", mean)"
   ]
  },
  {
   "cell_type": "code",
   "execution_count": 7,
   "id": "1c4521cf-c4c4-44fd-86b5-0bef189b99b9",
   "metadata": {},
   "outputs": [
    {
     "name": "stdout",
     "output_type": "stream",
     "text": [
      "Standard Deviation: 0.25120767175965864\n"
     ]
    }
   ],
   "source": [
    "print(\"Standard Deviation:\", std)"
   ]
  },
  {
   "cell_type": "code",
   "execution_count": 8,
   "id": "0e61f513-d67b-4b5a-a840-38956d522284",
   "metadata": {},
   "outputs": [
    {
     "name": "stdout",
     "output_type": "stream",
     "text": [
      "\n",
      "Normalized Array (X_normalized):\n",
      " [[ 1.76716724 -2.00354897 -1.79240699 -0.39321374 -0.32643018]\n",
      " [-1.05225621 -1.60680485  1.09284334  0.48690495 -0.40386168]\n",
      " [-0.56098186  0.94585564  0.82479405 -0.58202142  0.42897934]\n",
      " [-0.35577832 -0.19468136  1.09513212  0.63621858  1.4675156 ]\n",
      " [ 0.43759733 -1.25158584  0.97173534  0.16642568  0.20240221]]\n"
     ]
    }
   ],
   "source": [
    "print(\"\\nNormalized Array (X_normalized):\\n\", X_normalized)"
   ]
  },
  {
   "cell_type": "code",
   "execution_count": 12,
   "id": "f675f875-d4dd-4a47-bf4b-961e9788b9c5",
   "metadata": {},
   "outputs": [],
   "source": [
    "#DIVISIBLE BY 3 PROBLEM\n",
    "import numpy as np\n",
    "\n",
    "#Create a 10x10 ndarray with squares of the first 100 positive integers (1-100)\n",
    "#Create an array of integers from 1 to 100\n",
    "integers = np.arange(1, 101)\n",
    "\n",
    "#Square each integer\n",
    "squares = integers ** 2\n",
    "\n",
    "#Reshape into a 10x10 array\n",
    "A = squares.reshape(10, 10)\n",
    "\n",
    "#Find elements divisible by 3\n",
    "#Extract elements that are divisible by 3\n",
    "div_by_3 = A[A % 3 == 0]\n",
    "\n",
    "#Save the result as div_by_3.npy\n",
    "np.save(\"div_by_3.npy\", div_by_3)"
   ]
  },
  {
   "cell_type": "code",
   "execution_count": 13,
   "id": "4e72c69d-7a4d-4066-9477-285a45043f77",
   "metadata": {},
   "outputs": [
    {
     "name": "stdout",
     "output_type": "stream",
     "text": [
      "10x10 Array A:\n",
      " [[    1     4     9    16    25    36    49    64    81   100]\n",
      " [  121   144   169   196   225   256   289   324   361   400]\n",
      " [  441   484   529   576   625   676   729   784   841   900]\n",
      " [  961  1024  1089  1156  1225  1296  1369  1444  1521  1600]\n",
      " [ 1681  1764  1849  1936  2025  2116  2209  2304  2401  2500]\n",
      " [ 2601  2704  2809  2916  3025  3136  3249  3364  3481  3600]\n",
      " [ 3721  3844  3969  4096  4225  4356  4489  4624  4761  4900]\n",
      " [ 5041  5184  5329  5476  5625  5776  5929  6084  6241  6400]\n",
      " [ 6561  6724  6889  7056  7225  7396  7569  7744  7921  8100]\n",
      " [ 8281  8464  8649  8836  9025  9216  9409  9604  9801 10000]]\n"
     ]
    }
   ],
   "source": [
    "print(\"10x10 Array A:\\n\", A)"
   ]
  },
  {
   "cell_type": "code",
   "execution_count": 15,
   "id": "4146bae3-399e-4c51-b4bc-c458d900a0d3",
   "metadata": {},
   "outputs": [
    {
     "name": "stdout",
     "output_type": "stream",
     "text": [
      "\n",
      "Elements divisible by 3:\n",
      " [   9   36   81  144  225  324  441  576  729  900 1089 1296 1521 1764\n",
      " 2025 2304 2601 2916 3249 3600 3969 4356 4761 5184 5625 6084 6561 7056\n",
      " 7569 8100 8649 9216 9801]\n"
     ]
    }
   ],
   "source": [
    "print(\"\\nElements divisible by 3:\\n\", div_by_3)"
   ]
  }
 ],
 "metadata": {
  "kernelspec": {
   "display_name": "Python [conda env:base] *",
   "language": "python",
   "name": "conda-base-py"
  },
  "language_info": {
   "codemirror_mode": {
    "name": "ipython",
    "version": 3
   },
   "file_extension": ".py",
   "mimetype": "text/x-python",
   "name": "python",
   "nbconvert_exporter": "python",
   "pygments_lexer": "ipython3",
   "version": "3.13.5"
  }
 },
 "nbformat": 4,
 "nbformat_minor": 5
}
